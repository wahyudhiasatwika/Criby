{
  "cells": [
    {
      "cell_type": "code",
      "execution_count": 160,
      "metadata": {
        "colab": {
          "base_uri": "https://localhost:8080/"
        },
        "id": "mIFxaH_g7tVU",
        "outputId": "ade88f45-7eae-4283-c7eb-ade085ab4d75"
      },
      "outputs": [],
      "source": [
        "# !pip install -q \"tensorflow==2.11.*\"\n",
        "# !pip install -q \"tensorflow_io==0.28.*\""
      ]
    },
    {
      "cell_type": "code",
      "execution_count": 161,
      "metadata": {
        "colab": {
          "base_uri": "https://localhost:8080/"
        },
        "id": "qATxr9AHNejb",
        "outputId": "bcdfc053-5297-4d2f-f4f9-fe49f6fd656d"
      },
      "outputs": [],
      "source": [
        "# !kaggle datasets download -d warcoder/infant-cry-audio-corpus\n",
        "# !unzip infant-cry-audio-corpus.zip -d infant-cry"
      ]
    },
    {
      "cell_type": "code",
      "execution_count": 162,
      "metadata": {
        "id": "wseOBR5q7h7o"
      },
      "outputs": [],
      "source": [
        "import os\n",
        "\n",
        "from IPython import display\n",
        "import matplotlib.pyplot as plt\n",
        "import numpy as np\n",
        "import pandas as pd\n",
        "\n",
        "import tensorflow as tf\n",
        "import tensorflow_hub as hub\n",
        "import tensorflow_io as tfio\n",
        "import audiomentations as aa\n",
        "\n",
        "import librosa\n",
        "\n",
        "from tensorflow.keras import regularizers\n",
        "from tensorflow.keras.callbacks import EarlyStopping, ReduceLROnPlateau"
      ]
    },
    {
      "cell_type": "code",
      "execution_count": 163,
      "metadata": {
        "id": "bvFKUpc_8NQ5"
      },
      "outputs": [],
      "source": [
        "yamnet_model_handle = 'https://tfhub.dev/google/yamnet/1'\n",
        "yamnet_model = hub.load(yamnet_model_handle)"
      ]
    },
    {
      "cell_type": "code",
      "execution_count": 164,
      "metadata": {
        "id": "cGUFVJ0n9KF9"
      },
      "outputs": [],
      "source": [
        "root_dir = 'data/donateacry_corpus'\n",
        "subfolders = ['belly_pain', 'burping', 'discomfort', 'hungry','tired']"
      ]
    },
    {
      "cell_type": "code",
      "execution_count": 165,
      "metadata": {
        "id": "3feyXlVJ85-n"
      },
      "outputs": [],
      "source": [
        "file_paths = []\n",
        "labels = []\n",
        "\n",
        "def collect_files_and_labels(base_dir, subfolders, file_paths, labels):\n",
        "    for folder_name in subfolders:\n",
        "        folder_path = os.path.join(base_dir, folder_name)\n",
        "        if os.path.isdir(folder_path):\n",
        "            for file_name in os.listdir(folder_path):\n",
        "                if file_name.endswith('.wav'):\n",
        "                    file_path = os.path.join(folder_path, file_name)\n",
        "                    file_paths.append(file_path)\n",
        "                    labels.append(folder_name)\n",
        "\n",
        "collect_files_and_labels(root_dir, subfolders, file_paths, labels)"
      ]
    },
    {
      "cell_type": "code",
      "execution_count": 166,
      "metadata": {
        "id": "elnyzKci9XWJ"
      },
      "outputs": [],
      "source": [
        "df = pd.DataFrame({\n",
        "    'File Path': file_paths,\n",
        "    'Label': labels\n",
        "})"
      ]
    },
    {
      "cell_type": "code",
      "execution_count": 167,
      "metadata": {},
      "outputs": [
        {
          "data": {
            "text/html": [
              "<div>\n",
              "<style scoped>\n",
              "    .dataframe tbody tr th:only-of-type {\n",
              "        vertical-align: middle;\n",
              "    }\n",
              "\n",
              "    .dataframe tbody tr th {\n",
              "        vertical-align: top;\n",
              "    }\n",
              "\n",
              "    .dataframe thead th {\n",
              "        text-align: right;\n",
              "    }\n",
              "</style>\n",
              "<table border=\"1\" class=\"dataframe\">\n",
              "  <thead>\n",
              "    <tr style=\"text-align: right;\">\n",
              "      <th></th>\n",
              "      <th>File Path</th>\n",
              "      <th>Label</th>\n",
              "    </tr>\n",
              "  </thead>\n",
              "  <tbody>\n",
              "    <tr>\n",
              "      <th>0</th>\n",
              "      <td>data/donateacry_corpus\\belly_pain\\549a46d8-9c8...</td>\n",
              "      <td>belly_pain</td>\n",
              "    </tr>\n",
              "    <tr>\n",
              "      <th>1</th>\n",
              "      <td>data/donateacry_corpus\\belly_pain\\643D64AD-B71...</td>\n",
              "      <td>belly_pain</td>\n",
              "    </tr>\n",
              "    <tr>\n",
              "      <th>2</th>\n",
              "      <td>data/donateacry_corpus\\belly_pain\\643D64AD-B71...</td>\n",
              "      <td>belly_pain</td>\n",
              "    </tr>\n",
              "    <tr>\n",
              "      <th>3</th>\n",
              "      <td>data/donateacry_corpus\\belly_pain\\643D64AD-B71...</td>\n",
              "      <td>belly_pain</td>\n",
              "    </tr>\n",
              "    <tr>\n",
              "      <th>4</th>\n",
              "      <td>data/donateacry_corpus\\belly_pain\\643D64AD-B71...</td>\n",
              "      <td>belly_pain</td>\n",
              "    </tr>\n",
              "    <tr>\n",
              "      <th>...</th>\n",
              "      <td>...</td>\n",
              "      <td>...</td>\n",
              "    </tr>\n",
              "    <tr>\n",
              "      <th>452</th>\n",
              "      <td>data/donateacry_corpus\\tired\\d5abedab-9ed5-48d...</td>\n",
              "      <td>tired</td>\n",
              "    </tr>\n",
              "    <tr>\n",
              "      <th>453</th>\n",
              "      <td>data/donateacry_corpus\\tired\\d6cda191-4962-430...</td>\n",
              "      <td>tired</td>\n",
              "    </tr>\n",
              "    <tr>\n",
              "      <th>454</th>\n",
              "      <td>data/donateacry_corpus\\tired\\d6cda191-4962-430...</td>\n",
              "      <td>tired</td>\n",
              "    </tr>\n",
              "    <tr>\n",
              "      <th>455</th>\n",
              "      <td>data/donateacry_corpus\\tired\\d6cda191-4962-430...</td>\n",
              "      <td>tired</td>\n",
              "    </tr>\n",
              "    <tr>\n",
              "      <th>456</th>\n",
              "      <td>data/donateacry_corpus\\tired\\eea17285-4ab9-4d3...</td>\n",
              "      <td>tired</td>\n",
              "    </tr>\n",
              "  </tbody>\n",
              "</table>\n",
              "<p>457 rows × 2 columns</p>\n",
              "</div>"
            ],
            "text/plain": [
              "                                             File Path       Label\n",
              "0    data/donateacry_corpus\\belly_pain\\549a46d8-9c8...  belly_pain\n",
              "1    data/donateacry_corpus\\belly_pain\\643D64AD-B71...  belly_pain\n",
              "2    data/donateacry_corpus\\belly_pain\\643D64AD-B71...  belly_pain\n",
              "3    data/donateacry_corpus\\belly_pain\\643D64AD-B71...  belly_pain\n",
              "4    data/donateacry_corpus\\belly_pain\\643D64AD-B71...  belly_pain\n",
              "..                                                 ...         ...\n",
              "452  data/donateacry_corpus\\tired\\d5abedab-9ed5-48d...       tired\n",
              "453  data/donateacry_corpus\\tired\\d6cda191-4962-430...       tired\n",
              "454  data/donateacry_corpus\\tired\\d6cda191-4962-430...       tired\n",
              "455  data/donateacry_corpus\\tired\\d6cda191-4962-430...       tired\n",
              "456  data/donateacry_corpus\\tired\\eea17285-4ab9-4d3...       tired\n",
              "\n",
              "[457 rows x 2 columns]"
            ]
          },
          "execution_count": 167,
          "metadata": {},
          "output_type": "execute_result"
        }
      ],
      "source": [
        "df"
      ]
    },
    {
      "cell_type": "code",
      "execution_count": 168,
      "metadata": {},
      "outputs": [],
      "source": [
        "# df.to_csv('infant_cry.csv', index=False) "
      ]
    },
    {
      "cell_type": "code",
      "execution_count": 169,
      "metadata": {
        "id": "RdhnZf5LBR8e"
      },
      "outputs": [],
      "source": [
        "from sklearn.preprocessing import LabelEncoder\n",
        "\n",
        "label_encoder = LabelEncoder()\n",
        "\n",
        "df['Label'] = label_encoder.fit_transform(labels)"
      ]
    },
    {
      "cell_type": "code",
      "execution_count": 170,
      "metadata": {
        "id": "yFdn1xKb9c4I"
      },
      "outputs": [],
      "source": [
        "X = df['File Path']\n",
        "y = df['Label']"
      ]
    },
    {
      "cell_type": "code",
      "execution_count": 171,
      "metadata": {
        "colab": {
          "base_uri": "https://localhost:8080/"
        },
        "id": "2N6o1KduA5jC",
        "outputId": "d5a5ecbc-af61-45b8-cefe-26e43be0492c"
      },
      "outputs": [
        {
          "data": {
            "text/plain": [
              "0      data/donateacry_corpus\\belly_pain\\549a46d8-9c8...\n",
              "1      data/donateacry_corpus\\belly_pain\\643D64AD-B71...\n",
              "2      data/donateacry_corpus\\belly_pain\\643D64AD-B71...\n",
              "3      data/donateacry_corpus\\belly_pain\\643D64AD-B71...\n",
              "4      data/donateacry_corpus\\belly_pain\\643D64AD-B71...\n",
              "                             ...                        \n",
              "452    data/donateacry_corpus\\tired\\d5abedab-9ed5-48d...\n",
              "453    data/donateacry_corpus\\tired\\d6cda191-4962-430...\n",
              "454    data/donateacry_corpus\\tired\\d6cda191-4962-430...\n",
              "455    data/donateacry_corpus\\tired\\d6cda191-4962-430...\n",
              "456    data/donateacry_corpus\\tired\\eea17285-4ab9-4d3...\n",
              "Name: File Path, Length: 457, dtype: object"
            ]
          },
          "execution_count": 171,
          "metadata": {},
          "output_type": "execute_result"
        }
      ],
      "source": [
        "X"
      ]
    },
    {
      "cell_type": "code",
      "execution_count": 172,
      "metadata": {
        "id": "Cepyyt5c9h62"
      },
      "outputs": [],
      "source": [
        "def train_validate_test_split(df):\n",
        "    df = df.sample(frac=1).reset_index(drop=True)\n",
        "    train_end = int(.9 * len(df.index))\n",
        "    validate_end = int(.05 * len(df.index)) + train_end\n",
        "    train = df.iloc[:train_end]\n",
        "    validate = df.iloc[train_end:validate_end]\n",
        "    test = df.iloc[validate_end:]\n",
        "    return train, validate, test"
      ]
    },
    {
      "cell_type": "code",
      "execution_count": 173,
      "metadata": {
        "colab": {
          "base_uri": "https://localhost:8080/"
        },
        "id": "kWj5bLOy9kCd",
        "outputId": "f61ab300-fee6-4ca3-bcb6-3afd5f1c9505"
      },
      "outputs": [
        {
          "name": "stdout",
          "output_type": "stream",
          "text": [
            "411 22 24\n"
          ]
        }
      ],
      "source": [
        "df_train, df_validation, df_test = train_validate_test_split(df)\n",
        "print(len(df_train), len(df_validation), len(df_test))"
      ]
    },
    {
      "cell_type": "code",
      "execution_count": 174,
      "metadata": {
        "id": "tzsVgDPY9oVi"
      },
      "outputs": [],
      "source": [
        "@tf.function\n",
        "def load_wav_16k_mono(filename):\n",
        "    \"\"\" Load a WAV file, convert it to a float tensor, resample to 16 kHz single-channel audio. \"\"\"\n",
        "    file_contents = tf.io.read_file(filename)\n",
        "    wav, sample_rate = tf.audio.decode_wav(\n",
        "          file_contents,\n",
        "          desired_channels=1)\n",
        "    wav = tf.squeeze(wav, axis=-1)\n",
        "    sample_rate = tf.cast(sample_rate, dtype=tf.int64)\n",
        "    wav = tfio.audio.resample(wav, rate_in=sample_rate, rate_out=16000)\n",
        "    return wav"
      ]
    },
    {
      "cell_type": "code",
      "execution_count": 175,
      "metadata": {
        "id": "qLTjDNs49rGL"
      },
      "outputs": [],
      "source": [
        "def wav_map(file_path, label):\n",
        "    return load_wav_16k_mono(file_path), label\n",
        "\n",
        "def extract_yamnet_embeddings(wav_data, targets):\n",
        "    scores, embeddings, spectrogram = yamnet_model(wav_data)\n",
        "    num_embeddings = tf.shape(embeddings)[0]\n",
        "    return (embeddings, tf.repeat(targets, num_embeddings))"
      ]
    },
    {
      "cell_type": "markdown",
      "metadata": {},
      "source": [
        "# Augmentation"
      ]
    },
    {
      "cell_type": "code",
      "execution_count": 176,
      "metadata": {},
      "outputs": [],
      "source": [
        "# def add_noise(wav, noise_factor=0.005):\n",
        "#     noise = tf.random.normal(shape=tf.shape(wav), mean=0.0, stddev=noise_factor, dtype=tf.float32)\n",
        "#     return wav + noise\n",
        "\n",
        "# def time_shift(wav, shift_max=1600):\n",
        "#     shift = tf.random.uniform([], -shift_max, shift_max, dtype=tf.int32)\n",
        "#     return tf.roll(wav, shift, axis=0)\n",
        "\n",
        "# def pitch_shift(wav, sampling_rate=16000, pitch_factor=1.1):\n",
        "#     return tfio.audio.pitch_shift(wav, sampling_rate, pitch_factor)\n",
        "\n",
        "# def time_stretch(wav, rate=1.1):\n",
        "#     return tfio.audio.time_stretch(wav, rate)"
      ]
    },
    {
      "cell_type": "code",
      "execution_count": 177,
      "metadata": {},
      "outputs": [],
      "source": [
        "def add_noise(wav, noise_factor=0.005):\n",
        "    noise = tf.random.normal(shape=tf.shape(wav), mean=0.0, stddev=noise_factor, dtype=tf.float32)\n",
        "    return wav + noise\n",
        "\n",
        "def time_shift(wav, shift_max=1600):\n",
        "    shift = tf.random.uniform([], -shift_max, shift_max, dtype=tf.int32)\n",
        "    return tf.roll(wav, shift, axis=0)\n",
        "\n",
        "def pitch_shift(wav, sampling_rate=16000, pitch_factor=1.1):\n",
        "    wav_numpy = wav.numpy()\n",
        "    shifted_wav = librosa.effects.pitch_shift(wav_numpy, sr=sampling_rate, n_steps=pitch_factor)\n",
        "    return tf.convert_to_tensor(shifted_wav, dtype=tf.float32)\n",
        "\n",
        "def time_stretch(wav, rate=1.1):\n",
        "    wav_numpy = wav.numpy()\n",
        "    stretched_wav = librosa.effects.time_stretch(wav_numpy, rate)\n",
        "    return tf.convert_to_tensor(stretched_wav, dtype=tf.float32)\n",
        "\n",
        "# def spec_augment(wav):\n",
        "#     aug = aa.SpecAugment(time_drop_width=64, time_stripes_num=2, freq_drop_width=8, freq_stripes_num=2)\n",
        "#     return aug(wav.numpy(), sample_rate=16000)"
      ]
    },
    {
      "cell_type": "code",
      "execution_count": 178,
      "metadata": {},
      "outputs": [],
      "source": [
        "def augment(wav, label):\n",
        "    if tf.random.uniform(()) > 0.5:\n",
        "        wav = add_noise(wav)\n",
        "    if tf.random.uniform(()) > 0.5:\n",
        "        wav = time_shift(wav)\n",
        "    if tf.random.uniform(()) > 0.5:\n",
        "        wav = pitch_shift(wav)\n",
        "    if tf.random.uniform(()) > 0.5:\n",
        "        wav = time_stretch(wav)\n",
        "    # if tf.random.uniform(()) > 0.5:\n",
        "    #     wav = tf.py_function(spec_augment, [wav], tf.float32)\n",
        "    return wav, label"
      ]
    },
    {
      "cell_type": "code",
      "execution_count": 179,
      "metadata": {},
      "outputs": [],
      "source": [
        "# def process_dataset(dataset, augment_data=False):\n",
        "#     return (\n",
        "#         dataset\n",
        "#         .map(wav_map)\n",
        "#         if augment_data:\n",
        "#             .map(augment)\n",
        "#         .map(extract_yamnet_embeddings)\n",
        "#         .unbatch()\n",
        "#         .cache()\n",
        "#         .shuffle(1000)\n",
        "#         .batch(32)\n",
        "#         .prefetch(tf.data.AUTOTUNE)\n",
        "#     )"
      ]
    },
    {
      "cell_type": "code",
      "execution_count": 180,
      "metadata": {},
      "outputs": [],
      "source": [
        "def process_dataset(dataset, augment_data=False):\n",
        "    dataset = dataset.map(wav_map)\n",
        "    \n",
        "    if augment_data:\n",
        "        dataset = dataset.map(augment)\n",
        "    \n",
        "    dataset = (\n",
        "        dataset\n",
        "        .map(extract_yamnet_embeddings)\n",
        "        .unbatch()\n",
        "        .cache()\n",
        "        .shuffle(1000)\n",
        "        .batch(32)\n",
        "        .prefetch(tf.data.AUTOTUNE)\n",
        "    )\n",
        "    \n",
        "    return dataset"
      ]
    },
    {
      "cell_type": "code",
      "execution_count": 181,
      "metadata": {
        "colab": {
          "base_uri": "https://localhost:8080/"
        },
        "id": "vRYnzvhuEgs4",
        "outputId": "6d723964-5d86-4f6c-a1c3-10f2be99afe3"
      },
      "outputs": [
        {
          "name": "stdout",
          "output_type": "stream",
          "text": [
            "WARNING:tensorflow:Using a while_loop for converting IO>AudioResample cause there is no registered converter for this op.\n"
          ]
        },
        {
          "name": "stderr",
          "output_type": "stream",
          "text": [
            "WARNING:tensorflow:Using a while_loop for converting IO>AudioResample cause there is no registered converter for this op.\n"
          ]
        },
        {
          "data": {
            "text/plain": [
              "(TensorSpec(shape=(None, 1024), dtype=tf.float32, name=None),\n",
              " TensorSpec(shape=(None,), dtype=tf.int64, name=None))"
            ]
          },
          "execution_count": 181,
          "metadata": {},
          "output_type": "execute_result"
        }
      ],
      "source": [
        "train_ds = tf.data.Dataset.from_tensor_slices((df_train['File Path'], df_train['Label']))\n",
        "valid_ds = tf.data.Dataset.from_tensor_slices((df_validation['File Path'], df_validation['Label']))\n",
        "test_ds = tf.data.Dataset.from_tensor_slices((df_test['File Path'], df_test['Label']))\n",
        "\n",
        "train_ds = process_dataset(train_ds)\n",
        "valid_ds = process_dataset(valid_ds)\n",
        "test_ds = process_dataset(test_ds)\n",
        "\n",
        "train_ds.element_spec"
      ]
    },
    {
      "cell_type": "code",
      "execution_count": 182,
      "metadata": {
        "id": "9w8e_w6R91Sx"
      },
      "outputs": [],
      "source": [
        "tf.keras.backend.clear_session()\n",
        "\n",
        "# model = tf.keras.Sequential([\n",
        "#     tf.keras.layers.Input(shape=(1024), dtype=tf.float32, name='input_1'),\n",
        "#     tf.keras.layers.Dense(512, activation='relu', name='dense_1'),\n",
        "#     tf.keras.layers.Dense(6, activation='softmax', name='output_1')\n",
        "# ], name='model_criby')\n",
        "\n",
        "\n",
        "#87 val\n",
        "model = tf.keras.Sequential([\n",
        "    tf.keras.layers.Input(shape=(1024,)),  # Assuming the YAMNet embeddings have a shape of (1024,)\n",
        "    tf.keras.layers.Dense(64, activation='relu', kernel_regularizer=regularizers.l2(0.01)),\n",
        "    tf.keras.layers.BatchNormalization(),\n",
        "    tf.keras.layers.Dropout(0.6),\n",
        "    tf.keras.layers.Dense(32, activation='relu', kernel_regularizer=regularizers.l2(0.01)),\n",
        "    tf.keras.layers.BatchNormalization(),\n",
        "    tf.keras.layers.Dropout(0.6),\n",
        "    tf.keras.layers.Dense(16, activation='relu', kernel_regularizer=regularizers.l2(0.01)),\n",
        "    tf.keras.layers.BatchNormalization(),\n",
        "    tf.keras.layers.Dropout(0.6),\n",
        "    tf.keras.layers.Dense(5, activation='softmax')  # Adjust the number of classes as needed\n",
        "])\n",
        "\n",
        "# model = tf.keras.Sequential([\n",
        "#     tf.keras.layers.Input(shape=(1024,)),  # Assuming the YAMNet embeddings have a shape of (1024,)\n",
        "#     tf.keras.layers.Dense(32, activation='relu', kernel_regularizer=regularizers.l2(0.01)),\n",
        "#     tf.keras.layers.Dropout(0.5),\n",
        "#     tf.keras.layers.Dense(16, activation='relu', kernel_regularizer=regularizers.l2(0.01)),\n",
        "#     tf.keras.layers.Dropout(0.5),\n",
        "#     tf.keras.layers.Dense(5, activation='softmax')  # Adjust the number of classes as needed\n",
        "# ])\n",
        "\n",
        "\n",
        "\n",
        "# model = tf.keras.Sequential([\n",
        "#     tf.keras.layers.Input(shape=(None, 1024)),  # Assuming YAMNet embeddings are of variable length\n",
        "#     tf.keras.layers.LSTM(64, return_sequences=True),\n",
        "#     tf.keras.layers.Dropout(0.5),\n",
        "#     tf.keras.layers.LSTM(32),\n",
        "#     tf.keras.layers.Dropout(0.5),\n",
        "#     tf.keras.layers.Dense(16, activation='relu', kernel_regularizer=regularizers.l2(0.01)),\n",
        "#     tf.keras.layers.Dropout(0.5),\n",
        "#     tf.keras.layers.Dense(5, activation='softmax')\n",
        "# ])"
      ]
    },
    {
      "cell_type": "code",
      "execution_count": 183,
      "metadata": {
        "id": "DIX7wXk29-nD"
      },
      "outputs": [
        {
          "name": "stderr",
          "output_type": "stream",
          "text": [
            "c:\\Users\\wikab\\python-gpu\\lib\\site-packages\\keras\\optimizers\\optimizer_v2\\adam.py:114: UserWarning: The `lr` argument is deprecated, use `learning_rate` instead.\n",
            "  super().__init__(name, **kwargs)\n"
          ]
        }
      ],
      "source": [
        "model.compile(loss=\"sparse_categorical_crossentropy\", \n",
        "              optimizer=tf.keras.optimizers.Adam(lr=0.0001), \n",
        "              metrics=[\"accuracy\"])\n",
        "\n",
        "early_stopping = EarlyStopping(monitor='val_loss', patience=10, restore_best_weights=True)\n",
        "reduce_lr = ReduceLROnPlateau(monitor='val_loss', factor=0.5, patience=5, min_lr=1e-6)"
      ]
    },
    {
      "cell_type": "code",
      "execution_count": 184,
      "metadata": {
        "colab": {
          "base_uri": "https://localhost:8080/"
        },
        "id": "Oeil7V-9-AEc",
        "outputId": "86359dd5-7657-4395-e089-0aeb7d0be25e"
      },
      "outputs": [
        {
          "name": "stdout",
          "output_type": "stream",
          "text": [
            "Epoch 1/50\n",
            "179/179 [==============================] - 22s 100ms/step - loss: 4.3669 - accuracy: 0.1787 - val_loss: 3.4240 - val_accuracy: 0.1115 - lr: 1.0000e-04\n",
            "Epoch 2/50\n",
            "179/179 [==============================] - 2s 10ms/step - loss: 4.0582 - accuracy: 0.1981 - val_loss: 3.2778 - val_accuracy: 0.1311 - lr: 1.0000e-04\n",
            "Epoch 3/50\n",
            "179/179 [==============================] - 2s 12ms/step - loss: 3.8484 - accuracy: 0.2055 - val_loss: 3.1114 - val_accuracy: 0.1705 - lr: 1.0000e-04\n",
            "Epoch 4/50\n",
            "179/179 [==============================] - 2s 12ms/step - loss: 3.6114 - accuracy: 0.2301 - val_loss: 2.9888 - val_accuracy: 0.1869 - lr: 1.0000e-04\n",
            "Epoch 5/50\n",
            "179/179 [==============================] - 2s 12ms/step - loss: 3.4146 - accuracy: 0.2544 - val_loss: 2.8513 - val_accuracy: 0.2131 - lr: 1.0000e-04\n",
            "Epoch 6/50\n",
            "179/179 [==============================] - 2s 12ms/step - loss: 3.2833 - accuracy: 0.2745 - val_loss: 2.7383 - val_accuracy: 0.2787 - lr: 1.0000e-04\n",
            "Epoch 7/50\n",
            "179/179 [==============================] - 2s 13ms/step - loss: 3.1436 - accuracy: 0.3006 - val_loss: 2.6339 - val_accuracy: 0.3869 - lr: 1.0000e-04\n",
            "Epoch 8/50\n",
            "179/179 [==============================] - 2s 9ms/step - loss: 3.0297 - accuracy: 0.3307 - val_loss: 2.5553 - val_accuracy: 0.4525 - lr: 1.0000e-04\n",
            "Epoch 9/50\n",
            "179/179 [==============================] - 1s 5ms/step - loss: 2.8888 - accuracy: 0.3616 - val_loss: 2.4810 - val_accuracy: 0.5705 - lr: 1.0000e-04\n",
            "Epoch 10/50\n",
            "179/179 [==============================] - 1s 5ms/step - loss: 2.7754 - accuracy: 0.3966 - val_loss: 2.4052 - val_accuracy: 0.6525 - lr: 1.0000e-04\n",
            "Epoch 11/50\n",
            "179/179 [==============================] - 1s 5ms/step - loss: 2.6515 - accuracy: 0.4179 - val_loss: 2.3240 - val_accuracy: 0.7508 - lr: 1.0000e-04\n",
            "Epoch 12/50\n",
            "179/179 [==============================] - 1s 5ms/step - loss: 2.5514 - accuracy: 0.4702 - val_loss: 2.2454 - val_accuracy: 0.7639 - lr: 1.0000e-04\n",
            "Epoch 13/50\n",
            "179/179 [==============================] - 1s 5ms/step - loss: 2.4751 - accuracy: 0.4945 - val_loss: 2.1801 - val_accuracy: 0.7705 - lr: 1.0000e-04\n",
            "Epoch 14/50\n",
            "179/179 [==============================] - 1s 5ms/step - loss: 2.3371 - accuracy: 0.5508 - val_loss: 2.1255 - val_accuracy: 0.7738 - lr: 1.0000e-04\n",
            "Epoch 15/50\n",
            "179/179 [==============================] - 1s 5ms/step - loss: 2.2842 - accuracy: 0.5758 - val_loss: 2.0498 - val_accuracy: 0.7738 - lr: 1.0000e-04\n",
            "Epoch 16/50\n",
            "179/179 [==============================] - 1s 5ms/step - loss: 2.1930 - accuracy: 0.6137 - val_loss: 1.9829 - val_accuracy: 0.7738 - lr: 1.0000e-04\n",
            "Epoch 17/50\n",
            "179/179 [==============================] - 1s 5ms/step - loss: 2.0978 - accuracy: 0.6499 - val_loss: 1.9383 - val_accuracy: 0.7738 - lr: 1.0000e-04\n",
            "Epoch 18/50\n",
            "179/179 [==============================] - 1s 5ms/step - loss: 2.0436 - accuracy: 0.6699 - val_loss: 1.8824 - val_accuracy: 0.7738 - lr: 1.0000e-04\n",
            "Epoch 19/50\n",
            "179/179 [==============================] - 1s 5ms/step - loss: 1.9635 - accuracy: 0.7040 - val_loss: 1.8280 - val_accuracy: 0.7738 - lr: 1.0000e-04\n",
            "Epoch 20/50\n",
            "179/179 [==============================] - 1s 5ms/step - loss: 1.8970 - accuracy: 0.7162 - val_loss: 1.7859 - val_accuracy: 0.7738 - lr: 1.0000e-04\n",
            "Epoch 21/50\n",
            "179/179 [==============================] - 1s 5ms/step - loss: 1.8326 - accuracy: 0.7407 - val_loss: 1.7462 - val_accuracy: 0.7738 - lr: 1.0000e-04\n",
            "Epoch 22/50\n",
            "179/179 [==============================] - 1s 5ms/step - loss: 1.7737 - accuracy: 0.7514 - val_loss: 1.6998 - val_accuracy: 0.7738 - lr: 1.0000e-04\n",
            "Epoch 23/50\n",
            "179/179 [==============================] - 1s 5ms/step - loss: 1.7132 - accuracy: 0.7692 - val_loss: 1.6581 - val_accuracy: 0.7738 - lr: 1.0000e-04\n",
            "Epoch 24/50\n",
            "179/179 [==============================] - 1s 5ms/step - loss: 1.6695 - accuracy: 0.7821 - val_loss: 1.6319 - val_accuracy: 0.7738 - lr: 1.0000e-04\n",
            "Epoch 25/50\n",
            "179/179 [==============================] - 1s 5ms/step - loss: 1.6156 - accuracy: 0.7853 - val_loss: 1.6066 - val_accuracy: 0.7738 - lr: 1.0000e-04\n",
            "Epoch 26/50\n",
            "179/179 [==============================] - 1s 5ms/step - loss: 1.5767 - accuracy: 0.7909 - val_loss: 1.5677 - val_accuracy: 0.7738 - lr: 1.0000e-04\n",
            "Epoch 27/50\n",
            "179/179 [==============================] - 1s 5ms/step - loss: 1.5288 - accuracy: 0.7973 - val_loss: 1.5527 - val_accuracy: 0.7738 - lr: 1.0000e-04\n",
            "Epoch 28/50\n",
            "179/179 [==============================] - 1s 5ms/step - loss: 1.5037 - accuracy: 0.8033 - val_loss: 1.5283 - val_accuracy: 0.7738 - lr: 1.0000e-04\n",
            "Epoch 29/50\n",
            "179/179 [==============================] - 1s 5ms/step - loss: 1.4597 - accuracy: 0.8070 - val_loss: 1.5097 - val_accuracy: 0.7738 - lr: 1.0000e-04\n",
            "Epoch 30/50\n",
            "179/179 [==============================] - 1s 5ms/step - loss: 1.4293 - accuracy: 0.8113 - val_loss: 1.4847 - val_accuracy: 0.7738 - lr: 1.0000e-04\n",
            "Epoch 31/50\n",
            "179/179 [==============================] - 1s 5ms/step - loss: 1.3995 - accuracy: 0.8138 - val_loss: 1.4649 - val_accuracy: 0.7738 - lr: 1.0000e-04\n",
            "Epoch 32/50\n",
            "179/179 [==============================] - 1s 5ms/step - loss: 1.3685 - accuracy: 0.8188 - val_loss: 1.4483 - val_accuracy: 0.7738 - lr: 1.0000e-04\n",
            "Epoch 33/50\n",
            "179/179 [==============================] - 1s 5ms/step - loss: 1.3331 - accuracy: 0.8202 - val_loss: 1.4330 - val_accuracy: 0.7738 - lr: 1.0000e-04\n",
            "Epoch 34/50\n",
            "179/179 [==============================] - 1s 5ms/step - loss: 1.3171 - accuracy: 0.8213 - val_loss: 1.4067 - val_accuracy: 0.7738 - lr: 1.0000e-04\n",
            "Epoch 35/50\n",
            "179/179 [==============================] - 1s 5ms/step - loss: 1.2999 - accuracy: 0.8243 - val_loss: 1.3981 - val_accuracy: 0.7738 - lr: 1.0000e-04\n",
            "Epoch 36/50\n",
            "179/179 [==============================] - 1s 5ms/step - loss: 1.2743 - accuracy: 0.8246 - val_loss: 1.3803 - val_accuracy: 0.7738 - lr: 1.0000e-04\n",
            "Epoch 37/50\n",
            "179/179 [==============================] - 1s 5ms/step - loss: 1.2492 - accuracy: 0.8279 - val_loss: 1.3765 - val_accuracy: 0.7738 - lr: 1.0000e-04\n",
            "Epoch 38/50\n",
            "179/179 [==============================] - 1s 5ms/step - loss: 1.2343 - accuracy: 0.8271 - val_loss: 1.3685 - val_accuracy: 0.7738 - lr: 1.0000e-04\n",
            "Epoch 39/50\n",
            "179/179 [==============================] - 1s 5ms/step - loss: 1.2037 - accuracy: 0.8299 - val_loss: 1.3499 - val_accuracy: 0.7738 - lr: 1.0000e-04\n",
            "Epoch 40/50\n",
            "179/179 [==============================] - 1s 5ms/step - loss: 1.2006 - accuracy: 0.8300 - val_loss: 1.3387 - val_accuracy: 0.7738 - lr: 1.0000e-04\n",
            "Epoch 41/50\n",
            "179/179 [==============================] - 1s 6ms/step - loss: 1.1837 - accuracy: 0.8306 - val_loss: 1.3226 - val_accuracy: 0.7738 - lr: 1.0000e-04\n",
            "Epoch 42/50\n",
            "179/179 [==============================] - 1s 5ms/step - loss: 1.1705 - accuracy: 0.8318 - val_loss: 1.3175 - val_accuracy: 0.7738 - lr: 1.0000e-04\n",
            "Epoch 43/50\n",
            "179/179 [==============================] - 1s 5ms/step - loss: 1.1565 - accuracy: 0.8316 - val_loss: 1.3065 - val_accuracy: 0.7738 - lr: 1.0000e-04\n",
            "Epoch 44/50\n",
            "179/179 [==============================] - 1s 5ms/step - loss: 1.1276 - accuracy: 0.8325 - val_loss: 1.2953 - val_accuracy: 0.7738 - lr: 1.0000e-04\n",
            "Epoch 45/50\n",
            "179/179 [==============================] - 1s 5ms/step - loss: 1.1071 - accuracy: 0.8337 - val_loss: 1.2844 - val_accuracy: 0.7738 - lr: 1.0000e-04\n",
            "Epoch 46/50\n",
            "179/179 [==============================] - 1s 5ms/step - loss: 1.0903 - accuracy: 0.8341 - val_loss: 1.2701 - val_accuracy: 0.7738 - lr: 1.0000e-04\n",
            "Epoch 47/50\n",
            "179/179 [==============================] - 1s 5ms/step - loss: 1.0752 - accuracy: 0.8346 - val_loss: 1.2662 - val_accuracy: 0.7738 - lr: 1.0000e-04\n",
            "Epoch 48/50\n",
            "179/179 [==============================] - 1s 5ms/step - loss: 1.0652 - accuracy: 0.8372 - val_loss: 1.2497 - val_accuracy: 0.7738 - lr: 1.0000e-04\n",
            "Epoch 49/50\n",
            "179/179 [==============================] - 1s 5ms/step - loss: 1.0407 - accuracy: 0.8370 - val_loss: 1.2459 - val_accuracy: 0.7738 - lr: 1.0000e-04\n",
            "Epoch 50/50\n",
            "179/179 [==============================] - 1s 5ms/step - loss: 1.0309 - accuracy: 0.8370 - val_loss: 1.2368 - val_accuracy: 0.7738 - lr: 1.0000e-04\n"
          ]
        }
      ],
      "source": [
        "history = model.fit(train_ds, \n",
        "                    epochs=50, \n",
        "                    validation_data=valid_ds, \n",
        "                    callbacks=[early_stopping, reduce_lr])"
      ]
    },
    {
      "cell_type": "code",
      "execution_count": 185,
      "metadata": {},
      "outputs": [
        {
          "data": {
            "image/png": "[encoded data removed]",
            "text/plain": [
              "<Figure size 1200x300 with 2 Axes>"
            ]
          },
          "metadata": {},
          "output_type": "display_data"
        }
      ],
      "source": [
        "fig, axes = plt.subplots(1, 2, figsize=(12, 3))\n",
        "ax = axes.ravel()\n",
        "\n",
        "for i, metric in enumerate(['accuracy', 'loss']):\n",
        "    ax[i].plot(history.history[metric])\n",
        "    ax[i].plot(history.history['val_' + metric])\n",
        "    ax[i].set_xlabel('Epoch')\n",
        "    ax[i].set_ylabel(metric)\n",
        "    ax[i].set_ylim([0, 1])\n",
        "    ax[i].legend(['train', 'valid'])\n",
        "\n",
        "plt.show()"
      ]
    },
    {
      "cell_type": "code",
      "execution_count": 186,
      "metadata": {
        "id": "AhuHgftV-BkI"
      },
      "outputs": [
        {
          "name": "stdout",
          "output_type": "stream",
          "text": [
            "Test Loss: 1.0537495613098145\n",
            "Test Accuracy: 0.8333333134651184\n"
          ]
        }
      ],
      "source": [
        "results = model.evaluate(test_ds, verbose=0)\n",
        "print(f'Test Loss: {results[0]}')\n",
        "print(f'Test Accuracy: {results[1]}')"
      ]
    },
    {
      "cell_type": "code",
      "execution_count": 187,
      "metadata": {},
      "outputs": [],
      "source": [
        "model.save(\"model.h5\")"
      ]
    }
  ],
  "metadata": {
    "colab": {
      "provenance": []
    },
    "kernelspec": {
      "display_name": "Python 3",
      "name": "python3"
    },
    "language_info": {
      "codemirror_mode": {
        "name": "ipython",
        "version": 3
      },
      "file_extension": ".py",
      "mimetype": "text/x-python",
      "name": "python",
      "nbconvert_exporter": "python",
      "pygments_lexer": "ipython3",
      "version": "3.9.13"
    }
  },
  "nbformat": 4,
  "nbformat_minor": 0
}
