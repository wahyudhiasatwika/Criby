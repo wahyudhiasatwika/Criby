{
 "cells": [
  {
   "cell_type": "code",
   "execution_count": 58,
   "metadata": {},
   "outputs": [],
   "source": [
    "# pip install -q \"tensorflow==2.11.*\"\n",
    "# # tensorflow_io 0.28 is compatible with TensorFlow 2.11\n",
    "# pip install -q \"tensorflow_io==0.28.*\""
   ]
  },
  {
   "cell_type": "markdown",
   "metadata": {},
   "source": [
    "# Import Libraries"
   ]
  },
  {
   "cell_type": "code",
   "execution_count": 59,
   "metadata": {},
   "outputs": [],
   "source": [
    "import numpy as np\n",
    "import pandas as pd\n",
    "import matplotlib.pyplot as plt\n",
    "import seaborn as sns\n",
    "import os\n",
    "import kapre\n",
    "import tensorflow as tf\n",
    "import tensorflow_hub as hub\n",
    "import tensorflow_io as tfio\n",
    "from tensorflow import keras\n",
    "from tensorflow.keras.callbacks import EarlyStopping\n",
    "from tensorflow.keras import regularizers\n",
    "os.environ['TF_IO_PLUGIN_PATH'] = 'c:/Users/wikab/python-gpu/lib/site-packages/tensorflow_io/python/ops'\n",
    "import splitfolders"
   ]
  },
  {
   "cell_type": "code",
   "execution_count": 60,
   "metadata": {},
   "outputs": [
    {
     "name": "stdout",
     "output_type": "stream",
     "text": [
      "Num GPUs Available:  1\n",
      "PhysicalDevice(name='/physical_device:GPU:0', device_type='GPU')\n"
     ]
    }
   ],
   "source": [
    "# Check if TensorFlow can detect a GPU\n",
    "print(\"Num GPUs Available: \", len(tf.config.list_physical_devices('GPU')))\n",
    "\n",
    "# Optionally, print details about each GPU\n",
    "gpus = tf.config.list_physical_devices('GPU')\n",
    "for gpu in gpus:\n",
    "    print(gpu)"
   ]
  },
  {
   "cell_type": "code",
   "execution_count": 61,
   "metadata": {},
   "outputs": [
    {
     "name": "stdout",
     "output_type": "stream",
     "text": [
      "2.10.1\n"
     ]
    }
   ],
   "source": [
    "print(tf.__version__)"
   ]
  },
  {
   "cell_type": "code",
   "execution_count": 62,
   "metadata": {},
   "outputs": [
    {
     "name": "stdout",
     "output_type": "stream",
     "text": [
      "Num GPUs Available:  1\n",
      "PhysicalDevice(name='/physical_device:GPU:0', device_type='GPU')\n"
     ]
    }
   ],
   "source": [
    "# Check if TensorFlow can detect a GPU\n",
    "print(\"Num GPUs Available: \", len(tf.config.list_physical_devices('GPU')))\n",
    "\n",
    "# Optionally, print details about each GPU\n",
    "gpus = tf.config.list_physical_devices('GPU')\n",
    "for gpu in gpus:\n",
    "    print(gpu)"
   ]
  },
  {
   "cell_type": "markdown",
   "metadata": {},
   "source": [
    "# Load Data"
   ]
  },
  {
   "cell_type": "code",
   "execution_count": 63,
   "metadata": {},
   "outputs": [],
   "source": [
    "root_dir = 'data'\n",
    "subfolders = ['belly_pain', 'burping', 'discomfort', 'hungry', 'tired']"
   ]
  },
  {
   "cell_type": "code",
   "execution_count": 64,
   "metadata": {},
   "outputs": [],
   "source": [
    "# input_folder = 'rockpaperscissors'\n",
    "# output_folder = 'data'\n",
    "\n",
    "# splitfolders.ratio(input_folder, output=output_folder, seed=42, ratio=(0.8, 0.2))"
   ]
  },
  {
   "cell_type": "code",
   "execution_count": 65,
   "metadata": {},
   "outputs": [],
   "source": [
    "file_paths = []\n",
    "labels = []\n",
    "\n",
    "# Function to collect file paths and labels from a given directory\n",
    "def collect_files_and_labels(base_dir, subfolders, file_paths, labels):\n",
    "    for folder_name in subfolders:\n",
    "        folder_path = os.path.join(base_dir, folder_name)\n",
    "        if os.path.isdir(folder_path):\n",
    "            for file_name in os.listdir(folder_path):\n",
    "                if file_name.endswith('.wav'):\n",
    "                    file_path = os.path.join(folder_path, file_name)\n",
    "                    file_paths.append(file_path)\n",
    "                    labels.append(folder_name)  # Use the folder name as the label"
   ]
  },
  {
   "cell_type": "code",
   "execution_count": 66,
   "metadata": {},
   "outputs": [],
   "source": [
    "# Collect .wav files and labels from the train subdirectories\n",
    "train_dir = os.path.join(root_dir, 'train')\n",
    "collect_files_and_labels(train_dir, subfolders, file_paths, labels)\n",
    "\n",
    "# Collect .wav files and labels from the val subdirectories\n",
    "val_dir = os.path.join(root_dir, 'val')\n",
    "collect_files_and_labels(val_dir, subfolders, file_paths, labels)"
   ]
  },
  {
   "cell_type": "code",
   "execution_count": 67,
   "metadata": {},
   "outputs": [],
   "source": [
    "df = pd.DataFrame({\n",
    "    'File Path': file_paths,\n",
    "    'Label': labels\n",
    "})"
   ]
  },
  {
   "cell_type": "code",
   "execution_count": 68,
   "metadata": {},
   "outputs": [
    {
     "data": {
      "text/html": [
       "<div>\n",
       "<style scoped>\n",
       "    .dataframe tbody tr th:only-of-type {\n",
       "        vertical-align: middle;\n",
       "    }\n",
       "\n",
       "    .dataframe tbody tr th {\n",
       "        vertical-align: top;\n",
       "    }\n",
       "\n",
       "    .dataframe thead th {\n",
       "        text-align: right;\n",
       "    }\n",
       "</style>\n",
       "<table border=\"1\" class=\"dataframe\">\n",
       "  <thead>\n",
       "    <tr style=\"text-align: right;\">\n",
       "      <th></th>\n",
       "      <th>File Path</th>\n",
       "      <th>Label</th>\n",
       "    </tr>\n",
       "  </thead>\n",
       "  <tbody>\n",
       "    <tr>\n",
       "      <th>0</th>\n",
       "      <td>data\\train\\belly_pain\\643D64AD-B711-469A-AF69-...</td>\n",
       "      <td>belly_pain</td>\n",
       "    </tr>\n",
       "    <tr>\n",
       "      <th>1</th>\n",
       "      <td>data\\train\\belly_pain\\643D64AD-B711-469A-AF69-...</td>\n",
       "      <td>belly_pain</td>\n",
       "    </tr>\n",
       "    <tr>\n",
       "      <th>2</th>\n",
       "      <td>data\\train\\belly_pain\\643D64AD-B711-469A-AF69-...</td>\n",
       "      <td>belly_pain</td>\n",
       "    </tr>\n",
       "    <tr>\n",
       "      <th>3</th>\n",
       "      <td>data\\train\\belly_pain\\643D64AD-B711-469A-AF69-...</td>\n",
       "      <td>belly_pain</td>\n",
       "    </tr>\n",
       "    <tr>\n",
       "      <th>4</th>\n",
       "      <td>data\\train\\belly_pain\\643D64AD-B711-469A-AF69-...</td>\n",
       "      <td>belly_pain</td>\n",
       "    </tr>\n",
       "  </tbody>\n",
       "</table>\n",
       "</div>"
      ],
      "text/plain": [
       "                                           File Path       Label\n",
       "0  data\\train\\belly_pain\\643D64AD-B711-469A-AF69-...  belly_pain\n",
       "1  data\\train\\belly_pain\\643D64AD-B711-469A-AF69-...  belly_pain\n",
       "2  data\\train\\belly_pain\\643D64AD-B711-469A-AF69-...  belly_pain\n",
       "3  data\\train\\belly_pain\\643D64AD-B711-469A-AF69-...  belly_pain\n",
       "4  data\\train\\belly_pain\\643D64AD-B711-469A-AF69-...  belly_pain"
      ]
     },
     "execution_count": 68,
     "metadata": {},
     "output_type": "execute_result"
    }
   ],
   "source": [
    "df.head()"
   ]
  },
  {
   "cell_type": "code",
   "execution_count": 69,
   "metadata": {},
   "outputs": [
    {
     "name": "stdout",
     "output_type": "stream",
     "text": [
      "['belly_pain' 'burping' 'discomfort' 'hungry' 'tired']\n"
     ]
    }
   ],
   "source": [
    "print(df['Label'].unique())"
   ]
  },
  {
   "cell_type": "code",
   "execution_count": 70,
   "metadata": {},
   "outputs": [],
   "source": [
    "# Map class names to integer labels\n",
    "label_to_int = {class_name: idx for idx, class_name in enumerate(subfolders)}\n",
    "df['Label'] = df['Label'].map(label_to_int)"
   ]
  },
  {
   "cell_type": "code",
   "execution_count": 71,
   "metadata": {},
   "outputs": [
    {
     "data": {
      "text/plain": [
       "<Axes: ylabel='count'>"
      ]
     },
     "execution_count": 71,
     "metadata": {},
     "output_type": "execute_result"
    },
    {
     "data": {
      "image/png": "[encoded data removed]",
      "text/plain": [
       "<Figure size 640x480 with 1 Axes>"
      ]
     },
     "metadata": {},
     "output_type": "display_data"
    }
   ],
   "source": [
    "df['Label'].value_counts().plot(kind='pie', autopct='%.1f%%')"
   ]
  },
  {
   "cell_type": "markdown",
   "metadata": {},
   "source": [
    "# Load Model"
   ]
  },
  {
   "cell_type": "code",
   "execution_count": 72,
   "metadata": {},
   "outputs": [],
   "source": [
    "yamnet_url= 'https://tfhub.dev/google/yamnet/1'\n",
    "yamnet = hub.load(yamnet_url)"
   ]
  },
  {
   "cell_type": "markdown",
   "metadata": {},
   "source": [
    "# Pre Process Data"
   ]
  },
  {
   "cell_type": "code",
   "execution_count": 73,
   "metadata": {},
   "outputs": [],
   "source": [
    "X = df['File Path']\n",
    "y = df['Label']"
   ]
  },
  {
   "cell_type": "code",
   "execution_count": 74,
   "metadata": {},
   "outputs": [],
   "source": [
    "def train_validate_test_split(df):\n",
    "    df = df.sample(frac=1).reset_index(drop=True)\n",
    "    train_end = int(.9 * len(df.index))\n",
    "    validate_end = int(.05 * len(df.index)) + train_end\n",
    "    train = df.iloc[:train_end]\n",
    "    validate = df.iloc[train_end:validate_end]\n",
    "    test = df.iloc[validate_end:]\n",
    "    return train, validate, test"
   ]
  },
  {
   "cell_type": "code",
   "execution_count": 75,
   "metadata": {},
   "outputs": [
    {
     "name": "stdout",
     "output_type": "stream",
     "text": [
      "411 22 24\n"
     ]
    }
   ],
   "source": [
    "# Split the DataFrame into training, validation, and test sets\n",
    "df_train, df_validation, df_test = train_validate_test_split(df)\n",
    "\n",
    "# Print the lengths of the splits\n",
    "print(len(df_train), len(df_validation), len(df_test))"
   ]
  },
  {
   "cell_type": "code",
   "execution_count": 76,
   "metadata": {},
   "outputs": [],
   "source": [
    "train_ds = tf.data.Dataset.from_tensor_slices((df_train['File Path'], df_train['Label']))\n",
    "valid_ds = tf.data.Dataset.from_tensor_slices((df_validation['File Path'], df_validation['Label']))\n",
    "test_ds = tf.data.Dataset.from_tensor_slices((df_test['File Path'], df_test['Label']))"
   ]
  },
  {
   "cell_type": "code",
   "execution_count": 77,
   "metadata": {},
   "outputs": [],
   "source": [
    "def load_wav_16k_mono(filename):\n",
    "    \"\"\" Load a WAV file, convert it to a float tensor, resample to 16 kHz single-channel audio. \"\"\"\n",
    "    file_contents = tf.io.read_file(filename)\n",
    "    wav, sample_rate = tf.audio.decode_wav(\n",
    "          file_contents,\n",
    "          desired_channels=1)\n",
    "    wav = tf.squeeze(wav, axis=-1)\n",
    "    sample_rate = tf.cast(sample_rate, dtype=tf.int64)\n",
    "    wav = tfio.audio.resample(wav, rate_in=sample_rate, rate_out=16000)\n",
    "    return wav"
   ]
  },
  {
   "cell_type": "code",
   "execution_count": 78,
   "metadata": {},
   "outputs": [],
   "source": [
    "# def load_wav_16k_mono(filename):\n",
    "#     \"\"\" Load a WAV file, convert it to a float tensor, resample to 16 kHz single-channel audio. \"\"\"\n",
    "#     file_contents = tf.io.read_file(filename)\n",
    "#     print(\"File contents:\", file_contents)  # Print file contents\n",
    "#     wav, sample_rate = tf.audio.decode_wav(\n",
    "#           file_contents,\n",
    "#           desired_channels=1)\n",
    "#     print(\"Sample rate:\", sample_rate)  # Print sample rate\n",
    "#     wav = tf.squeeze(wav, axis=-1)\n",
    "#     sample_rate = tf.cast(sample_rate, dtype=tf.int64)\n",
    "#     wav = tfio.audio.resample(wav, rate_in=sample_rate, rate_out=16000)\n",
    "#     return wav\n"
   ]
  },
  {
   "cell_type": "code",
   "execution_count": 79,
   "metadata": {},
   "outputs": [],
   "source": [
    "def wav_map(file_path, label):\n",
    "    return load_wav_16k_mono(file_path), label"
   ]
  },
  {
   "cell_type": "code",
   "execution_count": 80,
   "metadata": {},
   "outputs": [],
   "source": [
    "# def wav_map(file_path, label):\n",
    "#     wav_data = load_wav_16k_mono(file_path)\n",
    "\n",
    "#     # Apply data augmentation (uncomment desired techniques)\n",
    "#     # wav_data = speed_perturbation(wav_data)  # Optional\n",
    "#     # wav_data = pitch_shift(wav_data, 16000)  # Optional (if defined)\n",
    "#     # ... (other augmentation functions)\n",
    "\n",
    "#     return wav_data, label\n"
   ]
  },
  {
   "cell_type": "code",
   "execution_count": 81,
   "metadata": {},
   "outputs": [],
   "source": [
    "def extract_yamnet_embeddings(wav_data, targets):\n",
    "    scores, embeddings, spectrogram = yamnet(wav_data)\n",
    "    num_embeddings = tf.shape(embeddings)[0]\n",
    "    return (embeddings, tf.repeat(targets, num_embeddings))"
   ]
  },
  {
   "cell_type": "code",
   "execution_count": 82,
   "metadata": {},
   "outputs": [],
   "source": [
    "# # applies the embedding extraction model to a wav data\n",
    "# def extract_embedding(wav_data, label, fold):\n",
    "#   ''' run YAMNet to extract embedding from the wav data '''\n",
    "#   scores, embeddings, spectrogram = yamnet_model(wav_data)\n",
    "#   num_embeddings = tf.shape(embeddings)[0]\n",
    "#   return (embeddings,\n",
    "#             tf.repeat(label, num_embeddings),\n",
    "#             tf.repeat(fold, num_embeddings))"
   ]
  },
  {
   "cell_type": "code",
   "execution_count": 83,
   "metadata": {},
   "outputs": [],
   "source": [
    "# my_classes\n",
    "\n",
    "# # extract embedding\n",
    "# main_ds = main_ds.map(extract_embedding).unbatch()\n",
    "# main_ds.element_spec"
   ]
  },
  {
   "cell_type": "code",
   "execution_count": null,
   "metadata": {},
   "outputs": [],
   "source": []
  },
  {
   "cell_type": "code",
   "execution_count": 84,
   "metadata": {},
   "outputs": [],
   "source": [
    "# def wav_map(file_path, label):\n",
    "#   wav_data = load_wav_16k_mono(file_path)\n",
    "\n",
    "#   # Apply data augmentation (uncomment desired techniques)\n",
    "#   wav_data = speed_perturbation(wav_data, sample_rate)  # Optional (adjust speed range as needed)\n",
    "#   # wav_data = pitch_shift(wav_data, 16000)  # Optional (if defined, adjust pitch shift factor)\n",
    "#   # wav_data = time_stretch(wav_data, tf.random.uniform([], minval=0.95, maxval=1.05))  # Optional\n",
    "#   # wav_data = add_noise(wav_data, 0.01)  # Optional (adjust noise level)\n",
    "\n",
    "#   return wav_data, label\n",
    "\n",
    "# def speed_perturbation(audio, sample_rate):\n",
    "#     print(\"Shape of audio tensor:\", audio.shape)  # Print shape of audio tensor\n",
    "#     speed = tf.random.uniform([], minval=0.95, maxval=1.05)\n",
    "#     num_samples = tf.cast(tf.shape(audio)[0], dtype=tf.float32) * speed\n",
    "#     num_samples = tf.cast(num_samples, dtype=tf.int32)\n",
    "#     audio = tfio.audio.resample(audio, sample_rate, num_samples)\n",
    "#     return audio\n",
    "\n",
    "# def pitch_shift(audio, sample_rate):\n",
    "#   pitch_factor = tf.random.uniform([], minval=0.95, maxval=1.05)\n",
    "#   return tf.signal.pitch_shift(audio, sample_rate, pitch_factor)\n",
    "\n",
    "# def time_stretch(audio, rate):\n",
    "#   return tf.audio.waveset_stretch(audio, rate)\n",
    "\n",
    "# def add_noise(audio, noise_level):\n",
    "#   noise = tf.random.normal(tf.shape(audio)) * noise_level\n",
    "#   return audio + noise\n",
    "\n",
    "# def process_dataset(dataset, sample_rate):\n",
    "#     \"\"\"Processes a dataset with data augmentation.\"\"\"\n",
    "\n",
    "#     def augment(features, labels, audio):\n",
    "#         # Apply data augmentation (uncomment desired techniques)\n",
    "#         audio = speed_perturbation(audio, sample_rate)  # Optional (adjust speed range as needed)\n",
    "\n",
    "#         # Apply pitch shift (optional, uncomment if desired)\n",
    "#         # audio = pitch_shift(audio, 16000)\n",
    "\n",
    "#         # Apply time stretching (optional, uncomment if desired)\n",
    "#         # audio = time_stretch(audio, tf.random.uniform([], minval=0.95, maxval=1.05))\n",
    "\n",
    "#         # Apply background noise (optional, uncomment if desired)\n",
    "#         # audio = add_noise(audio, 0.01)\n",
    "\n",
    "#         return (audio, labels)\n",
    "\n",
    "#     return (\n",
    "#         dataset\n",
    "#         .map(lambda audio, labels: augment(None, labels, audio))  # Adjusted to unpack audio and labels\n",
    "#         .map(wav_map)  # Assuming wav_map preprocesses audio data further\n",
    "#         .map(extract_yamnet_embeddings)  # Assuming this extracts features from audio\n",
    "#         .unbatch()\n",
    "#         .cache()\n",
    "#         .shuffle(1000)\n",
    "#         .batch(32)\n",
    "#         .prefetch(tf.data.AUTOTUNE)\n",
    "#     )\n",
    "\n",
    "# sample_rate = 16000\n",
    "\n",
    "# train_ds = process_dataset(train_ds, sample_rate)\n",
    "# valid_ds = process_dataset(valid_ds, sample_rate)\n",
    "# test_ds = process_dataset(test_ds, sample_rate)"
   ]
  },
  {
   "cell_type": "code",
   "execution_count": 85,
   "metadata": {},
   "outputs": [
    {
     "name": "stdout",
     "output_type": "stream",
     "text": [
      "WARNING:tensorflow:Using a while_loop for converting IO>AudioResample cause there is no registered converter for this op.\n"
     ]
    },
    {
     "name": "stderr",
     "output_type": "stream",
     "text": [
      "WARNING:tensorflow:Using a while_loop for converting IO>AudioResample cause there is no registered converter for this op.\n"
     ]
    },
    {
     "name": "stdout",
     "output_type": "stream",
     "text": [
      "WARNING:tensorflow:Using a while_loop for converting IO>AudioResample cause there is no registered converter for this op.\n"
     ]
    },
    {
     "name": "stderr",
     "output_type": "stream",
     "text": [
      "WARNING:tensorflow:Using a while_loop for converting IO>AudioResample cause there is no registered converter for this op.\n"
     ]
    },
    {
     "name": "stdout",
     "output_type": "stream",
     "text": [
      "WARNING:tensorflow:Using a while_loop for converting IO>AudioResample cause there is no registered converter for this op.\n"
     ]
    },
    {
     "name": "stderr",
     "output_type": "stream",
     "text": [
      "WARNING:tensorflow:Using a while_loop for converting IO>AudioResample cause there is no registered converter for this op.\n"
     ]
    }
   ],
   "source": [
    "def process_dataset(dataset):\n",
    "    return (\n",
    "        dataset\n",
    "        .map(wav_map)\n",
    "        .map(extract_yamnet_embeddings)\n",
    "        .unbatch()\n",
    "        .cache()\n",
    "        .shuffle(1000)\n",
    "        .batch(32)\n",
    "        .prefetch(tf.data.AUTOTUNE)\n",
    "    )\n",
    "\n",
    "train_ds = process_dataset(train_ds)\n",
    "valid_ds = process_dataset(valid_ds)\n",
    "test_ds = process_dataset(test_ds)"
   ]
  },
  {
   "cell_type": "code",
   "execution_count": 86,
   "metadata": {},
   "outputs": [],
   "source": [
    "# def process_dataset_with_augmentation(dataset):\n",
    "#     return (\n",
    "#         dataset\n",
    "#         .map(wav_map)\n",
    "#         .map(extract_yamnet_embeddings)\n",
    "#         .unbatch()\n",
    "#         .cache()\n",
    "#         .shuffle(1000)\n",
    "#         .map(apply_audio_augmentation)  # Apply augmentation\n",
    "#         .batch(32)\n",
    "#         .prefetch(tf.data.AUTOTUNE)\n",
    "#     )\n",
    "\n",
    "# def apply_audio_augmentation(wav_data, label):\n",
    "#     wav_data = tf.expand_dims(wav_data, axis=-1)\n",
    "#     wav_data = kapre.augmentation.AdditiveNoise()(wav_data)\n",
    "#     return tf.squeeze(wav_data, axis=-1), label\n",
    "\n",
    "# # Process the datasets with augmentation\n",
    "# train_ds = process_dataset_with_augmentation(train_ds)\n",
    "# valid_ds = process_dataset(valid_ds)\n",
    "# test_ds = process_dataset(test_ds)\n"
   ]
  },
  {
   "cell_type": "code",
   "execution_count": 87,
   "metadata": {},
   "outputs": [],
   "source": [
    "# def wav_map(file_path, label):\n",
    "#   wav_data = load_wav_16k_mono(file_path)\n",
    "\n",
    "#   # Apply data augmentation (uncomment desired techniques)\n",
    "#   wav_data = speed_perturbation(wav_data, sample_rate)  # Optional (adjust speed range as needed)\n",
    "#   # wav_data = pitch_shift(wav_data, 16000)  # Optional (if defined, adjust pitch shift factor)\n",
    "#   # wav_data = time_stretch(wav_data, tf.random.uniform([], minval=0.95, maxval=1.05))  # Optional\n",
    "#   # wav_data = add_noise(wav_data, 0.01)  # Optional (adjust noise level)\n",
    "\n",
    "#   return wav_data, label\n",
    "\n",
    "# def speed_perturbation(audio, sample_rate):\n",
    "#   speed = tf.random.uniform([], minval=0.95, maxval=1.05)\n",
    "#   return tf.audio.set_speed(audio, speed)\n",
    "\n",
    "# def pitch_shift(audio, sample_rate):\n",
    "#   pitch_factor = tf.random.uniform([], minval=0.95, maxval=1.05)\n",
    "#   return tf.signal.pitch_shift(audio, sample_rate, pitch_factor)\n",
    "\n",
    "# def time_stretch(audio, rate):\n",
    "#   return tf.audio.waveset_stretch(audio, rate)\n",
    "\n",
    "# def add_noise(audio, noise_level):\n",
    "#   noise = tf.random.normal(tf.shape(audio)) * noise_level\n",
    "#   return audio + noise\n",
    "\n",
    "# def process_dataset(dataset):\n",
    "#   \"\"\"Processes a dataset with data augmentation.\"\"\"\n",
    "\n",
    "#   def augment(features, labels, audio):\n",
    "#     # Apply data augmentation (uncomment desired techniques)\n",
    "#     audio = speed_perturbation(audio, sample_rate)  # Optional (adjust speed range as needed)\n",
    "\n",
    "#     # Apply pitch shift (optional, uncomment if desired)\n",
    "#     # audio = pitch_shift(audio, 16000)\n",
    "\n",
    "#     # Apply time stretching (optional, uncomment if desired)\n",
    "#     # audio = time_stretch(audio, tf.random.uniform([], minval=0.95, maxval=1.05))\n",
    "\n",
    "#     # Apply background noise (optional, uncomment if desired)\n",
    "#     # audio = add_noise(audio, 0.01)\n",
    "\n",
    "#     return (audio, labels)\n",
    "\n",
    "#   return (\n",
    "#       dataset\n",
    "#       .map(lambda features, labels: augment(features, labels, audio))  # Apply augmentation techniques here\n",
    "#       .map(wav_map)  # Assuming wav_map preprocesses audio data further\n",
    "#       .map(extract_yamnet_embeddings)  # Assuming this extracts features from audio\n",
    "#       .unbatch()\n",
    "#       .cache()\n",
    "#       .shuffle(1000)\n",
    "#       .batch(32)\n",
    "#       .prefetch(tf.data.AUTOTUNE)\n",
    "#   )\n",
    "\n",
    "\n",
    "# train_ds = process_dataset(train_ds)\n",
    "# valid_ds = process_dataset(valid_ds)\n",
    "# test_ds = process_dataset(test_ds)"
   ]
  },
  {
   "cell_type": "markdown",
   "metadata": {},
   "source": [
    "# Load Model"
   ]
  },
  {
   "cell_type": "code",
   "execution_count": 88,
   "metadata": {},
   "outputs": [],
   "source": [
    "# tf.keras.backend.clear_session()\n",
    "\n",
    "# model = tf.keras.Sequential([\n",
    "#     tf.keras.layers.Input(shape=(1024), dtype=tf.float32),\n",
    "#     tf.keras.layers.Dense(512, activation='relu'),\n",
    "#     tf.keras.layers.Dense(5, activation='softmax')\n",
    "# ])"
   ]
  },
  {
   "cell_type": "code",
   "execution_count": 89,
   "metadata": {},
   "outputs": [],
   "source": [
    "tf.keras.backend.clear_session()\n",
    "\n",
    "model = tf.keras.Sequential([\n",
    "    tf.keras.layers.Input(shape=(1024,)),  # Assuming the YAMNet embeddings have a shape of (1024,)\n",
    "    tf.keras.layers.Dense(256, activation='relu', kernel_regularizer=regularizers.l2(0.001)),\n",
    "    tf.keras.layers.Dropout(0.5),\n",
    "    tf.keras.layers.Dense(128, activation='relu', kernel_regularizer=regularizers.l2(0.001)),\n",
    "    tf.keras.layers.Dropout(0.5),\n",
    "    tf.keras.layers.Dense(6, activation='softmax')  # Adjust the number of classes as needed\n",
    "])"
   ]
  },
  {
   "cell_type": "code",
   "execution_count": 90,
   "metadata": {},
   "outputs": [],
   "source": [
    "model.compile(loss=\"sparse_categorical_crossentropy\", optimizer=\"adam\", metrics=[\"accuracy\"])\n",
    "# early_stopping = tf.keras.callbacks.EarlyStopping(monitor='val_loss', patience=3)\n",
    "\n",
    "early_stopping = EarlyStopping(monitor='val_loss', patience=10, restore_best_weights=True)"
   ]
  },
  {
   "cell_type": "code",
   "execution_count": 91,
   "metadata": {},
   "outputs": [],
   "source": [
    "# history = model.fit(train_ds, epochs=10, validation_data=valid_ds, callbacks=[early_stopping])"
   ]
  },
  {
   "cell_type": "code",
   "execution_count": 92,
   "metadata": {},
   "outputs": [
    {
     "name": "stdout",
     "output_type": "stream",
     "text": [
      "Epoch 1/50\n",
      "179/179 [==============================] - 23s 103ms/step - loss: 1.0568 - accuracy: 0.8252 - val_loss: 0.7715 - val_accuracy: 0.8618\n",
      "Epoch 2/50\n",
      "179/179 [==============================] - 1s 4ms/step - loss: 0.8561 - accuracy: 0.8371 - val_loss: 0.7223 - val_accuracy: 0.8618\n",
      "Epoch 3/50\n",
      "179/179 [==============================] - 1s 3ms/step - loss: 0.7888 - accuracy: 0.8373 - val_loss: 0.7023 - val_accuracy: 0.8618\n",
      "Epoch 4/50\n",
      "179/179 [==============================] - 0s 3ms/step - loss: 0.7511 - accuracy: 0.8367 - val_loss: 0.7201 - val_accuracy: 0.8618\n",
      "Epoch 5/50\n",
      "179/179 [==============================] - 0s 3ms/step - loss: 0.7336 - accuracy: 0.8374 - val_loss: 0.7295 - val_accuracy: 0.8618\n",
      "Epoch 6/50\n",
      "179/179 [==============================] - 0s 2ms/step - loss: 0.7205 - accuracy: 0.8373 - val_loss: 0.7142 - val_accuracy: 0.8618\n",
      "Epoch 7/50\n",
      "179/179 [==============================] - 0s 3ms/step - loss: 0.7037 - accuracy: 0.8371 - val_loss: 0.7126 - val_accuracy: 0.8618\n",
      "Epoch 8/50\n",
      "179/179 [==============================] - 0s 2ms/step - loss: 0.6865 - accuracy: 0.8374 - val_loss: 0.7243 - val_accuracy: 0.8618\n",
      "Epoch 9/50\n",
      "179/179 [==============================] - 1s 3ms/step - loss: 0.6745 - accuracy: 0.8381 - val_loss: 0.7417 - val_accuracy: 0.8586\n",
      "Epoch 10/50\n",
      "179/179 [==============================] - 1s 3ms/step - loss: 0.6695 - accuracy: 0.8376 - val_loss: 0.6970 - val_accuracy: 0.8586\n",
      "Epoch 11/50\n",
      "179/179 [==============================] - 0s 3ms/step - loss: 0.6553 - accuracy: 0.8383 - val_loss: 0.6923 - val_accuracy: 0.8618\n",
      "Epoch 12/50\n",
      "179/179 [==============================] - 0s 2ms/step - loss: 0.6609 - accuracy: 0.8387 - val_loss: 0.7245 - val_accuracy: 0.8618\n",
      "Epoch 13/50\n",
      "179/179 [==============================] - 0s 2ms/step - loss: 0.6525 - accuracy: 0.8374 - val_loss: 0.7596 - val_accuracy: 0.8553\n",
      "Epoch 14/50\n",
      "179/179 [==============================] - 0s 3ms/step - loss: 0.6418 - accuracy: 0.8394 - val_loss: 0.7185 - val_accuracy: 0.8618\n",
      "Epoch 15/50\n",
      "179/179 [==============================] - 0s 3ms/step - loss: 0.6422 - accuracy: 0.8394 - val_loss: 0.7322 - val_accuracy: 0.8618\n",
      "Epoch 16/50\n",
      "179/179 [==============================] - 0s 3ms/step - loss: 0.6410 - accuracy: 0.8401 - val_loss: 0.7444 - val_accuracy: 0.8618\n",
      "Epoch 17/50\n",
      "179/179 [==============================] - 0s 3ms/step - loss: 0.6335 - accuracy: 0.8402 - val_loss: 0.7323 - val_accuracy: 0.8586\n",
      "Epoch 18/50\n",
      "179/179 [==============================] - 0s 3ms/step - loss: 0.6298 - accuracy: 0.8388 - val_loss: 0.7380 - val_accuracy: 0.8618\n",
      "Epoch 19/50\n",
      "179/179 [==============================] - 1s 3ms/step - loss: 0.6313 - accuracy: 0.8394 - val_loss: 0.7486 - val_accuracy: 0.8586\n",
      "Epoch 20/50\n",
      "179/179 [==============================] - 0s 3ms/step - loss: 0.6212 - accuracy: 0.8418 - val_loss: 0.7482 - val_accuracy: 0.8618\n",
      "Epoch 21/50\n",
      "179/179 [==============================] - 0s 3ms/step - loss: 0.6252 - accuracy: 0.8409 - val_loss: 0.7596 - val_accuracy: 0.8520\n"
     ]
    }
   ],
   "source": [
    "history = model.fit(train_ds, validation_data=valid_ds, epochs=50, callbacks=[early_stopping])"
   ]
  },
  {
   "cell_type": "code",
   "execution_count": 93,
   "metadata": {},
   "outputs": [
    {
     "data": {
      "text/html": [
       "<div>\n",
       "<style scoped>\n",
       "    .dataframe tbody tr th:only-of-type {\n",
       "        vertical-align: middle;\n",
       "    }\n",
       "\n",
       "    .dataframe tbody tr th {\n",
       "        vertical-align: top;\n",
       "    }\n",
       "\n",
       "    .dataframe thead th {\n",
       "        text-align: right;\n",
       "    }\n",
       "</style>\n",
       "<table border=\"1\" class=\"dataframe\">\n",
       "  <thead>\n",
       "    <tr style=\"text-align: right;\">\n",
       "      <th></th>\n",
       "      <th>loss</th>\n",
       "      <th>accuracy</th>\n",
       "      <th>val_loss</th>\n",
       "      <th>val_accuracy</th>\n",
       "    </tr>\n",
       "  </thead>\n",
       "  <tbody>\n",
       "    <tr>\n",
       "      <th>0</th>\n",
       "      <td>1.056813</td>\n",
       "      <td>0.825197</td>\n",
       "      <td>0.771520</td>\n",
       "      <td>0.861842</td>\n",
       "    </tr>\n",
       "    <tr>\n",
       "      <th>1</th>\n",
       "      <td>0.856111</td>\n",
       "      <td>0.837095</td>\n",
       "      <td>0.722276</td>\n",
       "      <td>0.861842</td>\n",
       "    </tr>\n",
       "    <tr>\n",
       "      <th>2</th>\n",
       "      <td>0.788793</td>\n",
       "      <td>0.837270</td>\n",
       "      <td>0.702343</td>\n",
       "      <td>0.861842</td>\n",
       "    </tr>\n",
       "    <tr>\n",
       "      <th>3</th>\n",
       "      <td>0.751085</td>\n",
       "      <td>0.836745</td>\n",
       "      <td>0.720123</td>\n",
       "      <td>0.861842</td>\n",
       "    </tr>\n",
       "    <tr>\n",
       "      <th>4</th>\n",
       "      <td>0.733599</td>\n",
       "      <td>0.837445</td>\n",
       "      <td>0.729463</td>\n",
       "      <td>0.861842</td>\n",
       "    </tr>\n",
       "  </tbody>\n",
       "</table>\n",
       "</div>"
      ],
      "text/plain": [
       "       loss  accuracy  val_loss  val_accuracy\n",
       "0  1.056813  0.825197  0.771520      0.861842\n",
       "1  0.856111  0.837095  0.722276      0.861842\n",
       "2  0.788793  0.837270  0.702343      0.861842\n",
       "3  0.751085  0.836745  0.720123      0.861842\n",
       "4  0.733599  0.837445  0.729463      0.861842"
      ]
     },
     "execution_count": 93,
     "metadata": {},
     "output_type": "execute_result"
    }
   ],
   "source": [
    "history_df = pd.DataFrame(history.history)\n",
    "history_df.head()"
   ]
  },
  {
   "cell_type": "code",
   "execution_count": 94,
   "metadata": {},
   "outputs": [
    {
     "data": {
      "image/png": "[encoded data removed]",
      "text/plain": [
       "<Figure size 1200x300 with 2 Axes>"
      ]
     },
     "metadata": {},
     "output_type": "display_data"
    }
   ],
   "source": [
    "fig, axes = plt.subplots(1, 2, figsize=(12, 3))\n",
    "ax = axes.ravel()\n",
    "\n",
    "for i, metric in enumerate(['accuracy', 'loss']):\n",
    "    ax[i].plot(history.history[metric])\n",
    "    ax[i].plot(history.history['val_' + metric])\n",
    "    ax[i].set_xlabel('Epoch')\n",
    "    ax[i].set_ylabel(metric)\n",
    "    ax[i].set_ylim([0, 1])\n",
    "    ax[i].legend(['train', 'valid'])\n",
    "\n",
    "plt.show()"
   ]
  },
  {
   "cell_type": "code",
   "execution_count": 95,
   "metadata": {},
   "outputs": [
    {
     "name": "stdout",
     "output_type": "stream",
     "text": [
      "Test Loss: 1.016599416732788\n",
      "Test Accuracy: 0.7910447716712952\n"
     ]
    }
   ],
   "source": [
    "results = model.evaluate(test_ds, verbose=0)\n",
    "print(f'Test Loss: {results[0]}')\n",
    "print(f'Test Accuracy: {results[1]}')"
   ]
  }
 ],
 "metadata": {
  "kernelspec": {
   "display_name": "tf-gpu",
   "language": "python",
   "name": "python3"
  },
  "language_info": {
   "codemirror_mode": {
    "name": "ipython",
    "version": 3
   },
   "file_extension": ".py",
   "mimetype": "text/x-python",
   "name": "python",
   "nbconvert_exporter": "python",
   "pygments_lexer": "ipython3",
   "version": "3.9.13"
  }
 },
 "nbformat": 4,
 "nbformat_minor": 2
}
