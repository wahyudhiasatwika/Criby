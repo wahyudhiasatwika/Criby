{
  "cells": [
    {
      "cell_type": "code",
      "execution_count": 18,
      "metadata": {
        "colab": {
          "base_uri": "https://localhost:8080/"
        },
        "id": "mIFxaH_g7tVU",
        "outputId": "ade88f45-7eae-4283-c7eb-ade085ab4d75"
      },
      "outputs": [],
      "source": [
        "# !pip install -q \"tensorflow==2.11.*\"\n",
        "# !pip install -q \"tensorflow_io==0.28.*\""
      ]
    },
    {
      "cell_type": "code",
      "execution_count": 19,
      "metadata": {
        "colab": {
          "base_uri": "https://localhost:8080/"
        },
        "id": "qATxr9AHNejb",
        "outputId": "bcdfc053-5297-4d2f-f4f9-fe49f6fd656d"
      },
      "outputs": [],
      "source": [
        "# !kaggle datasets download -d warcoder/infant-cry-audio-corpus\n",
        "# !unzip infant-cry-audio-corpus.zip -d infant-cry"
      ]
    },
    {
      "cell_type": "code",
      "execution_count": 1,
      "metadata": {
        "id": "wseOBR5q7h7o"
      },
      "outputs": [],
      "source": [
        "import os\n",
        "\n",
        "from IPython import display\n",
        "import matplotlib.pyplot as plt\n",
        "import numpy as np\n",
        "import pandas as pd\n",
        "\n",
        "import tensorflow as tf\n",
        "import tensorflow_hub as hub\n",
        "import tensorflow_io as tfio\n",
        "from tensorflow.keras import regularizers\n",
        "from tensorflow.keras.callbacks import EarlyStopping"
      ]
    },
    {
      "cell_type": "code",
      "execution_count": 21,
      "metadata": {
        "id": "bvFKUpc_8NQ5"
      },
      "outputs": [],
      "source": [
        "yamnet_model_handle = 'https://tfhub.dev/google/yamnet/1'\n",
        "yamnet_model = hub.load(yamnet_model_handle)"
      ]
    },
    {
      "cell_type": "code",
      "execution_count": 2,
      "metadata": {
        "id": "cGUFVJ0n9KF9"
      },
      "outputs": [],
      "source": [
        "root_dir = 'data/donateacry_corpus'\n",
        "subfolders = ['belly_pain', 'burping', 'discomfort', 'hungry','tired']"
      ]
    },
    {
      "cell_type": "code",
      "execution_count": 4,
      "metadata": {
        "id": "3feyXlVJ85-n"
      },
      "outputs": [],
      "source": [
        "file_paths = []\n",
        "labels = []\n",
        "\n",
        "def collect_files_and_labels(base_dir, subfolders, file_paths, labels):\n",
        "    for folder_name in subfolders:\n",
        "        folder_path = os.path.join(base_dir, folder_name)\n",
        "        if os.path.isdir(folder_path):\n",
        "            for file_name in os.listdir(folder_path):\n",
        "                if file_name.endswith('.wav'):\n",
        "                    file_path = os.path.join(folder_path, file_name)\n",
        "                    file_paths.append(file_path)\n",
        "                    labels.append(folder_name)\n",
        "\n",
        "collect_files_and_labels(root_dir, subfolders, file_paths, labels)"
      ]
    },
    {
      "cell_type": "code",
      "execution_count": 5,
      "metadata": {
        "id": "elnyzKci9XWJ"
      },
      "outputs": [],
      "source": [
        "df = pd.DataFrame({\n",
        "    'File Path': file_paths,\n",
        "    'Label': labels\n",
        "})"
      ]
    },
    {
      "cell_type": "code",
      "execution_count": 6,
      "metadata": {},
      "outputs": [
        {
          "data": {
            "text/html": [
              "<div>\n",
              "<style scoped>\n",
              "    .dataframe tbody tr th:only-of-type {\n",
              "        vertical-align: middle;\n",
              "    }\n",
              "\n",
              "    .dataframe tbody tr th {\n",
              "        vertical-align: top;\n",
              "    }\n",
              "\n",
              "    .dataframe thead th {\n",
              "        text-align: right;\n",
              "    }\n",
              "</style>\n",
              "<table border=\"1\" class=\"dataframe\">\n",
              "  <thead>\n",
              "    <tr style=\"text-align: right;\">\n",
              "      <th></th>\n",
              "      <th>File Path</th>\n",
              "      <th>Label</th>\n",
              "    </tr>\n",
              "  </thead>\n",
              "  <tbody>\n",
              "    <tr>\n",
              "      <th>0</th>\n",
              "      <td>data/donateacry_corpus\\belly_pain\\549a46d8-9c8...</td>\n",
              "      <td>belly_pain</td>\n",
              "    </tr>\n",
              "    <tr>\n",
              "      <th>1</th>\n",
              "      <td>data/donateacry_corpus\\belly_pain\\643D64AD-B71...</td>\n",
              "      <td>belly_pain</td>\n",
              "    </tr>\n",
              "    <tr>\n",
              "      <th>2</th>\n",
              "      <td>data/donateacry_corpus\\belly_pain\\643D64AD-B71...</td>\n",
              "      <td>belly_pain</td>\n",
              "    </tr>\n",
              "    <tr>\n",
              "      <th>3</th>\n",
              "      <td>data/donateacry_corpus\\belly_pain\\643D64AD-B71...</td>\n",
              "      <td>belly_pain</td>\n",
              "    </tr>\n",
              "    <tr>\n",
              "      <th>4</th>\n",
              "      <td>data/donateacry_corpus\\belly_pain\\643D64AD-B71...</td>\n",
              "      <td>belly_pain</td>\n",
              "    </tr>\n",
              "    <tr>\n",
              "      <th>...</th>\n",
              "      <td>...</td>\n",
              "      <td>...</td>\n",
              "    </tr>\n",
              "    <tr>\n",
              "      <th>452</th>\n",
              "      <td>data/donateacry_corpus\\tired\\d5abedab-9ed5-48d...</td>\n",
              "      <td>tired</td>\n",
              "    </tr>\n",
              "    <tr>\n",
              "      <th>453</th>\n",
              "      <td>data/donateacry_corpus\\tired\\d6cda191-4962-430...</td>\n",
              "      <td>tired</td>\n",
              "    </tr>\n",
              "    <tr>\n",
              "      <th>454</th>\n",
              "      <td>data/donateacry_corpus\\tired\\d6cda191-4962-430...</td>\n",
              "      <td>tired</td>\n",
              "    </tr>\n",
              "    <tr>\n",
              "      <th>455</th>\n",
              "      <td>data/donateacry_corpus\\tired\\d6cda191-4962-430...</td>\n",
              "      <td>tired</td>\n",
              "    </tr>\n",
              "    <tr>\n",
              "      <th>456</th>\n",
              "      <td>data/donateacry_corpus\\tired\\eea17285-4ab9-4d3...</td>\n",
              "      <td>tired</td>\n",
              "    </tr>\n",
              "  </tbody>\n",
              "</table>\n",
              "<p>457 rows × 2 columns</p>\n",
              "</div>"
            ],
            "text/plain": [
              "                                             File Path       Label\n",
              "0    data/donateacry_corpus\\belly_pain\\549a46d8-9c8...  belly_pain\n",
              "1    data/donateacry_corpus\\belly_pain\\643D64AD-B71...  belly_pain\n",
              "2    data/donateacry_corpus\\belly_pain\\643D64AD-B71...  belly_pain\n",
              "3    data/donateacry_corpus\\belly_pain\\643D64AD-B71...  belly_pain\n",
              "4    data/donateacry_corpus\\belly_pain\\643D64AD-B71...  belly_pain\n",
              "..                                                 ...         ...\n",
              "452  data/donateacry_corpus\\tired\\d5abedab-9ed5-48d...       tired\n",
              "453  data/donateacry_corpus\\tired\\d6cda191-4962-430...       tired\n",
              "454  data/donateacry_corpus\\tired\\d6cda191-4962-430...       tired\n",
              "455  data/donateacry_corpus\\tired\\d6cda191-4962-430...       tired\n",
              "456  data/donateacry_corpus\\tired\\eea17285-4ab9-4d3...       tired\n",
              "\n",
              "[457 rows x 2 columns]"
            ]
          },
          "execution_count": 6,
          "metadata": {},
          "output_type": "execute_result"
        }
      ],
      "source": [
        "df"
      ]
    },
    {
      "cell_type": "code",
      "execution_count": null,
      "metadata": {},
      "outputs": [],
      "source": [
        "df.to_csv('infant_cry.csv', index=False) "
      ]
    },
    {
      "cell_type": "code",
      "execution_count": 7,
      "metadata": {
        "id": "RdhnZf5LBR8e"
      },
      "outputs": [],
      "source": [
        "from sklearn.preprocessing import LabelEncoder\n",
        "\n",
        "label_encoder = LabelEncoder()\n",
        "\n",
        "df['Label'] = label_encoder.fit_transform(labels)"
      ]
    },
    {
      "cell_type": "code",
      "execution_count": 8,
      "metadata": {
        "id": "yFdn1xKb9c4I"
      },
      "outputs": [],
      "source": [
        "X = df['File Path']\n",
        "y = df['Label']"
      ]
    },
    {
      "cell_type": "code",
      "execution_count": 9,
      "metadata": {
        "colab": {
          "base_uri": "https://localhost:8080/"
        },
        "id": "2N6o1KduA5jC",
        "outputId": "d5a5ecbc-af61-45b8-cefe-26e43be0492c"
      },
      "outputs": [
        {
          "data": {
            "text/plain": [
              "0      data/donateacry_corpus\\belly_pain\\549a46d8-9c8...\n",
              "1      data/donateacry_corpus\\belly_pain\\643D64AD-B71...\n",
              "2      data/donateacry_corpus\\belly_pain\\643D64AD-B71...\n",
              "3      data/donateacry_corpus\\belly_pain\\643D64AD-B71...\n",
              "4      data/donateacry_corpus\\belly_pain\\643D64AD-B71...\n",
              "                             ...                        \n",
              "452    data/donateacry_corpus\\tired\\d5abedab-9ed5-48d...\n",
              "453    data/donateacry_corpus\\tired\\d6cda191-4962-430...\n",
              "454    data/donateacry_corpus\\tired\\d6cda191-4962-430...\n",
              "455    data/donateacry_corpus\\tired\\d6cda191-4962-430...\n",
              "456    data/donateacry_corpus\\tired\\eea17285-4ab9-4d3...\n",
              "Name: File Path, Length: 457, dtype: object"
            ]
          },
          "execution_count": 9,
          "metadata": {},
          "output_type": "execute_result"
        }
      ],
      "source": [
        "X"
      ]
    },
    {
      "cell_type": "code",
      "execution_count": 28,
      "metadata": {
        "id": "Cepyyt5c9h62"
      },
      "outputs": [],
      "source": [
        "def train_validate_test_split(df):\n",
        "    df = df.sample(frac=1).reset_index(drop=True)\n",
        "    train_end = int(.9 * len(df.index))\n",
        "    validate_end = int(.05 * len(df.index)) + train_end\n",
        "    train = df.iloc[:train_end]\n",
        "    validate = df.iloc[train_end:validate_end]\n",
        "    test = df.iloc[validate_end:]\n",
        "    return train, validate, test"
      ]
    },
    {
      "cell_type": "code",
      "execution_count": 29,
      "metadata": {
        "colab": {
          "base_uri": "https://localhost:8080/"
        },
        "id": "kWj5bLOy9kCd",
        "outputId": "f61ab300-fee6-4ca3-bcb6-3afd5f1c9505"
      },
      "outputs": [
        {
          "name": "stdout",
          "output_type": "stream",
          "text": [
            "411 22 24\n"
          ]
        }
      ],
      "source": [
        "df_train, df_validation, df_test = train_validate_test_split(df)\n",
        "print(len(df_train), len(df_validation), len(df_test))"
      ]
    },
    {
      "cell_type": "code",
      "execution_count": 30,
      "metadata": {
        "id": "tzsVgDPY9oVi"
      },
      "outputs": [],
      "source": [
        "@tf.function\n",
        "def load_wav_16k_mono(filename):\n",
        "    \"\"\" Load a WAV file, convert it to a float tensor, resample to 16 kHz single-channel audio. \"\"\"\n",
        "    file_contents = tf.io.read_file(filename)\n",
        "    wav, sample_rate = tf.audio.decode_wav(\n",
        "          file_contents,\n",
        "          desired_channels=1)\n",
        "    wav = tf.squeeze(wav, axis=-1)\n",
        "    sample_rate = tf.cast(sample_rate, dtype=tf.int64)\n",
        "    wav = tfio.audio.resample(wav, rate_in=sample_rate, rate_out=16000)\n",
        "    return wav"
      ]
    },
    {
      "cell_type": "code",
      "execution_count": 31,
      "metadata": {
        "id": "qLTjDNs49rGL"
      },
      "outputs": [],
      "source": [
        "def wav_map(file_path, label):\n",
        "    return load_wav_16k_mono(file_path), label\n",
        "\n",
        "def extract_yamnet_embeddings(wav_data, targets):\n",
        "    scores, embeddings, spectrogram = yamnet_model(wav_data)\n",
        "    num_embeddings = tf.shape(embeddings)[0]\n",
        "    return (embeddings, tf.repeat(targets, num_embeddings))"
      ]
    },
    {
      "cell_type": "code",
      "execution_count": 32,
      "metadata": {
        "colab": {
          "base_uri": "https://localhost:8080/"
        },
        "id": "vRYnzvhuEgs4",
        "outputId": "6d723964-5d86-4f6c-a1c3-10f2be99afe3"
      },
      "outputs": [
        {
          "name": "stdout",
          "output_type": "stream",
          "text": [
            "WARNING:tensorflow:Using a while_loop for converting IO>AudioResample cause there is no registered converter for this op.\n"
          ]
        },
        {
          "name": "stderr",
          "output_type": "stream",
          "text": [
            "WARNING:tensorflow:Using a while_loop for converting IO>AudioResample cause there is no registered converter for this op.\n"
          ]
        },
        {
          "data": {
            "text/plain": [
              "(TensorSpec(shape=(None, 1024), dtype=tf.float32, name=None),\n",
              " TensorSpec(shape=(None,), dtype=tf.int64, name=None))"
            ]
          },
          "execution_count": 32,
          "metadata": {},
          "output_type": "execute_result"
        }
      ],
      "source": [
        "train_ds = tf.data.Dataset.from_tensor_slices((df_train['File Path'], df_train['Label']))\n",
        "valid_ds = tf.data.Dataset.from_tensor_slices((df_validation['File Path'], df_validation['Label']))\n",
        "test_ds = tf.data.Dataset.from_tensor_slices((df_test['File Path'], df_test['Label']))\n",
        "\n",
        "train_ds = train_ds.map(wav_map)\n",
        "valid_ds = valid_ds.map(wav_map)\n",
        "test_ds = test_ds.map(wav_map)\n",
        "\n",
        "train_ds = train_ds.map(extract_yamnet_embeddings).unbatch()\n",
        "valid_ds = valid_ds.map(extract_yamnet_embeddings).unbatch()\n",
        "test_ds = test_ds.map(extract_yamnet_embeddings).unbatch()\n",
        "\n",
        "\n",
        "train_ds = train_ds.cache().shuffle(1000).batch(32).prefetch(tf.data.AUTOTUNE)\n",
        "valid_ds = valid_ds.cache().batch(32).prefetch(tf.data.AUTOTUNE)\n",
        "test_ds = test_ds.cache().batch(32).prefetch(tf.data.AUTOTUNE)\n",
        "\n",
        "train_ds.element_spec"
      ]
    },
    {
      "cell_type": "code",
      "execution_count": 33,
      "metadata": {
        "id": "9w8e_w6R91Sx"
      },
      "outputs": [],
      "source": [
        "# tf.keras.backend.clear_session()\n",
        "\n",
        "# model = tf.keras.Sequential([\n",
        "#     tf.keras.layers.Input(shape=(1024), dtype=tf.float32, name='input_1'),\n",
        "#     tf.keras.layers.Dense(512, activation='relu', name='dense_1'),\n",
        "#     tf.keras.layers.Dense(6, activation='softmax', name='output_1')\n",
        "# ], name='model_criby')\n",
        "\n",
        "tf.keras.backend.clear_session()\n",
        "\n",
        "model = tf.keras.Sequential([\n",
        "    tf.keras.layers.Input(shape=(1024,)),  # Assuming the YAMNet embeddings have a shape of (1024,)\n",
        "    tf.keras.layers.Dense(256, activation='relu', kernel_regularizer=regularizers.l2(0.001)),\n",
        "    tf.keras.layers.Dropout(0.5),\n",
        "    tf.keras.layers.Dense(128, activation='relu', kernel_regularizer=regularizers.l2(0.001)),\n",
        "    tf.keras.layers.Dropout(0.5),\n",
        "    tf.keras.layers.Dense(6, activation='softmax')  # Adjust the number of classes as needed\n",
        "])"
      ]
    },
    {
      "cell_type": "code",
      "execution_count": 34,
      "metadata": {
        "id": "DIX7wXk29-nD"
      },
      "outputs": [],
      "source": [
        "model.compile(loss=\"sparse_categorical_crossentropy\", optimizer=\"adam\", metrics=[\"accuracy\"])\n",
        "early_stopping = EarlyStopping(monitor='val_loss', patience=10, restore_best_weights=True)"
      ]
    },
    {
      "cell_type": "code",
      "execution_count": 35,
      "metadata": {
        "colab": {
          "base_uri": "https://localhost:8080/"
        },
        "id": "Oeil7V-9-AEc",
        "outputId": "86359dd5-7657-4395-e089-0aeb7d0be25e"
      },
      "outputs": [
        {
          "name": "stdout",
          "output_type": "stream",
          "text": [
            "Epoch 1/10\n",
            "179/179 [==============================] - 25s 111ms/step - loss: 1.0903 - accuracy: 0.8229 - val_loss: 1.1156 - val_accuracy: 0.8191\n",
            "Epoch 2/10\n",
            "179/179 [==============================] - 1s 5ms/step - loss: 0.8731 - accuracy: 0.8317 - val_loss: 1.0255 - val_accuracy: 0.8191\n",
            "Epoch 3/10\n",
            "179/179 [==============================] - 1s 3ms/step - loss: 0.8167 - accuracy: 0.8320 - val_loss: 0.9749 - val_accuracy: 0.8191\n",
            "Epoch 4/10\n",
            "179/179 [==============================] - 1s 3ms/step - loss: 0.7701 - accuracy: 0.8315 - val_loss: 0.9518 - val_accuracy: 0.8125\n",
            "Epoch 5/10\n",
            "179/179 [==============================] - 1s 3ms/step - loss: 0.7447 - accuracy: 0.8324 - val_loss: 0.9560 - val_accuracy: 0.8092\n",
            "Epoch 6/10\n",
            "179/179 [==============================] - 1s 3ms/step - loss: 0.7318 - accuracy: 0.8332 - val_loss: 0.9358 - val_accuracy: 0.8059\n",
            "Epoch 7/10\n",
            "179/179 [==============================] - 1s 3ms/step - loss: 0.7083 - accuracy: 0.8331 - val_loss: 0.9412 - val_accuracy: 0.7993\n",
            "Epoch 8/10\n",
            "179/179 [==============================] - 1s 3ms/step - loss: 0.6941 - accuracy: 0.8364 - val_loss: 0.9139 - val_accuracy: 0.7993\n",
            "Epoch 9/10\n",
            "179/179 [==============================] - 1s 3ms/step - loss: 0.6820 - accuracy: 0.8341 - val_loss: 0.9897 - val_accuracy: 0.8092\n",
            "Epoch 10/10\n",
            "179/179 [==============================] - 1s 3ms/step - loss: 0.6808 - accuracy: 0.8346 - val_loss: 0.9869 - val_accuracy: 0.8059\n"
          ]
        }
      ],
      "source": [
        "history = model.fit(train_ds, epochs=10, validation_data=valid_ds, callbacks=[early_stopping])"
      ]
    },
    {
      "cell_type": "code",
      "execution_count": null,
      "metadata": {},
      "outputs": [],
      "source": [
        "fig, axes = plt.subplots(1, 2, figsize=(12, 3))\n",
        "ax = axes.ravel()\n",
        "\n",
        "for i, metric in enumerate(['accuracy', 'loss']):\n",
        "    ax[i].plot(history.history[metric])\n",
        "    ax[i].plot(history.history['val_' + metric])\n",
        "    ax[i].set_xlabel('Epoch')\n",
        "    ax[i].set_ylabel(metric)\n",
        "    ax[i].set_ylim([0, 1])\n",
        "    ax[i].legend(['train', 'valid'])\n",
        "\n",
        "plt.show()"
      ]
    },
    {
      "cell_type": "code",
      "execution_count": 36,
      "metadata": {
        "id": "AhuHgftV-BkI"
      },
      "outputs": [
        {
          "name": "stdout",
          "output_type": "stream",
          "text": [
            "Test Loss: 0.4301045835018158\n",
            "Test Accuracy: 0.9074627161026001\n"
          ]
        }
      ],
      "source": [
        "results = model.evaluate(test_ds, verbose=0)\n",
        "print(f'Test Loss: {results[0]}')\n",
        "print(f'Test Accuracy: {results[1]}')"
      ]
    }
  ],
  "metadata": {
    "colab": {
      "provenance": []
    },
    "kernelspec": {
      "display_name": "Python 3",
      "name": "python3"
    },
    "language_info": {
      "codemirror_mode": {
        "name": "ipython",
        "version": 3
      },
      "file_extension": ".py",
      "mimetype": "text/x-python",
      "name": "python",
      "nbconvert_exporter": "python",
      "pygments_lexer": "ipython3",
      "version": "3.9.13"
    }
  },
  "nbformat": 4,
  "nbformat_minor": 0
}
